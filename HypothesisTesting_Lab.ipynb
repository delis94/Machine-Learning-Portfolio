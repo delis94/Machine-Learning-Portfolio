{
  "metadata": {
    "kernelspec": {
      "name": "python",
      "display_name": "Python (Pyodide)",
      "language": "python"
    },
    "language_info": {
      "codemirror_mode": {
        "name": "python",
        "version": 3
      },
      "file_extension": ".py",
      "mimetype": "text/x-python",
      "name": "python",
      "nbconvert_exporter": "python",
      "pygments_lexer": "ipython3",
      "version": "3.8"
    },
    "prev_pub_hash": "f334dd5e9495bf7d046ec65fcb243b1f0808a93b03a8740fa4b6a2914f3c872a"
  },
  "nbformat_minor": 4,
  "nbformat": 4,
  "cells": [
    {
      "cell_type": "markdown",
      "source": "<p style=\"text-align:center\">\n    <a href=\"https://skills.network\" target=\"_blank\">\n    <img src=\"https://cf-courses-data.s3.us.cloud-object-storage.appdomain.cloud/assets/logos/SN_web_lightmode.png\" width=\"200\" alt=\"Skills Network Logo\">\n    </a>\n</p>\n",
      "metadata": {}
    },
    {
      "cell_type": "markdown",
      "source": "# **Hypothesis Testing**\n",
      "metadata": {}
    },
    {
      "cell_type": "markdown",
      "source": "Estimated time needed: **30** minutes\n",
      "metadata": {}
    },
    {
      "cell_type": "markdown",
      "source": "Leveraging customer information is of paramount importance for most businesses. Imagine that you are an insurance analyst (actuarian) who needs to assess the insurability or the risks of his/her customers. Part of your job is to look at customer attributes such as age, sex, BMI, smokers/non-smokers, location, etc., and to use them in your decision-making process on whether to churn or approve their claims.\n\nThis lab will guide you through the series of steps in hypothesis testing to help you decide, using the statistical evidence, a certain effect of an attribute or a combination of attributes on the insurance claims. This lab will only introduce you to the initial steps in the decision making, before building the prediction models and classifiers.\n",
      "metadata": {}
    },
    {
      "cell_type": "markdown",
      "source": "## Objectives\n",
      "metadata": {}
    },
    {
      "cell_type": "markdown",
      "source": "After completing this lab you will be able to:\n",
      "metadata": {}
    },
    {
      "cell_type": "markdown",
      "source": "*   Understand the elements of hypothesis testing\n    *   Choose a sample statistic\n    *   Define hypothesis\n    *   Set the decision criteria\n    *   Evaluate and interpret the results\n",
      "metadata": {}
    },
    {
      "cell_type": "markdown",
      "source": "***\n",
      "metadata": {}
    },
    {
      "cell_type": "markdown",
      "source": "## **Setup**\n",
      "metadata": {}
    },
    {
      "cell_type": "markdown",
      "source": "For this lab, we will be using the following libraries:\n\n*   [`pandas`](https://pandas.pydata.org/?utm_medium=Exinfluencer&utm_source=Exinfluencer&utm_content=000026UJ&utm_term=10006555&utm_id=NA-SkillsNetwork-Channel-SkillsNetworkCoursesIBMML0232ENSkillsNetwork30654641-2022-01-01) for managing the data.\n*   [`numpy`](https://numpy.org/?utm_medium=Exinfluencer&utm_source=Exinfluencer&utm_content=000026UJ&utm_term=10006555&utm_id=NA-SkillsNetwork-Channel-SkillsNetworkCoursesIBMML0232ENSkillsNetwork30654641-2022-01-01) for mathematical operations.\n*   [`seaborn`](https://seaborn.pydata.org/?utm_medium=Exinfluencer&utm_source=Exinfluencer&utm_content=000026UJ&utm_term=10006555&utm_id=NA-SkillsNetwork-Channel-SkillsNetworkCoursesIBMML0232ENSkillsNetwork30654641-2022-01-01) for visualizing the data.\n*   [`matplotlib`](https://matplotlib.org/?utm_medium=Exinfluencer&utm_source=Exinfluencer&utm_content=000026UJ&utm_term=10006555&utm_id=NA-SkillsNetwork-Channel-SkillsNetworkCoursesIBMML0232ENSkillsNetwork30654641-2022-01-01) for visualizing the data.\n*   [`scipy.stats`](https://docs.scipy.org/doc/scipy/reference/stats.html/?utm_medium=Exinfluencer&utm_source=Exinfluencer&utm_content=000026UJ&utm_term=10006555&utm_id=NA-SkillsNetwork-Channel-SkillsNetworkCoursesIBMML0232ENSkillsNetwork30654641-2022-01-01) for statistical analysis.\n*   [`statsmodels`](https://www.statsmodels.org/stable/index.html/?utm_medium=Exinfluencer&utm_source=Exinfluencer&utm_content=000026UJ&utm_term=10006555&utm_id=NA-SkillsNetwork-Channel-SkillsNetworkCoursesIBMML0232ENSkillsNetwork30654641-2022-01-01) for statistical analysis.\n",
      "metadata": {}
    },
    {
      "cell_type": "markdown",
      "source": "## **Installing Required Libraries**\n",
      "metadata": {}
    },
    {
      "cell_type": "markdown",
      "source": "The following required modules are pre-installed in the Skills Network Labs environment. However if you run this notebook commands in a different Jupyter environment (e.g. Watson Studio or Ananconda) you will need to install these libraries by removing the `#` sign before `!mamba` in the code cell below.\n",
      "metadata": {}
    },
    {
      "cell_type": "code",
      "source": "# All Libraries required for this lab are listed below. The libraries pre-installed on Skills Network Labs are commented.\n# !mamba install -qy pandas==1.3.4 numpy==1.21.4 seaborn==0.9.0 matplotlib==3.5.0 scikit-learn==0.20.1\n# Note: If your environment doesn't support \"!mamba install\", use \"!pip install\"",
      "metadata": {},
      "outputs": [],
      "execution_count": null
    },
    {
      "cell_type": "code",
      "source": "import piplite\nawait piplite.install(['pandas', 'numpy', 'seaborn', 'matplotlib', 'scipy', 'statsmodels', 'skillsnetwork'])",
      "metadata": {
        "trusted": true
      },
      "outputs": [],
      "execution_count": 1
    },
    {
      "cell_type": "code",
      "source": "import warnings \nwarnings.filterwarnings('ignore')",
      "metadata": {
        "trusted": true
      },
      "outputs": [],
      "execution_count": 2
    },
    {
      "cell_type": "code",
      "source": "import skillsnetwork\n\nimport pandas as pd\nimport numpy as np\n\nimport matplotlib.pyplot as plt\n%matplotlib inline\nimport seaborn as sns\n\nimport scipy.stats as stats \nfrom scipy.stats import chi2_contingency\n\nfrom statsmodels.formula.api import ols\nfrom statsmodels.stats.anova import anova_lm ",
      "metadata": {
        "trusted": true
      },
      "outputs": [],
      "execution_count": 3
    },
    {
      "cell_type": "markdown",
      "source": "## **Reading and understanding our data**\n",
      "metadata": {}
    },
    {
      "cell_type": "markdown",
      "source": "For this lab, we will be using the <code>insurance.csv</code> file, hosted on IBM Cloud object.\n\nThis dataset contains information about age, sex, BMI, the number of children, whether the client is smoker or non-smoker, region where the client lives, and the charges to their insurance company.\n",
      "metadata": {}
    },
    {
      "cell_type": "markdown",
      "source": "Let's read the data into *pandas* data frame and look at the first 5 rows using the `head()` method.\n",
      "metadata": {}
    },
    {
      "cell_type": "code",
      "source": "URL = 'https://cf-courses-data.s3.us.cloud-object-storage.appdomain.cloud/IBM-ML0232EN-SkillsNetwork/asset/insurance.csv'\n\nawait skillsnetwork.download_dataset(URL)\ndata = pd.read_csv('insurance.csv')\n\ndata.head()",
      "metadata": {
        "trusted": true
      },
      "outputs": [
        {
          "name": "stderr",
          "text": "Downloading insurance.csv: 100%|██████████| 54289/54289 [00:00<00:00, 196699.09it/s]\n",
          "output_type": "stream"
        },
        {
          "name": "stdout",
          "text": "Saved as 'insurance.csv'\n",
          "output_type": "stream"
        },
        {
          "execution_count": 4,
          "output_type": "execute_result",
          "data": {
            "text/plain": "   age     sex     bmi  children smoker     region      charges\n0   19  female  27.900         0    yes  southwest  16884.92400\n1   18    male  33.770         1     no  southeast   1725.55230\n2   28    male  33.000         3     no  southeast   4449.46200\n3   33    male  22.705         0     no  northwest  21984.47061\n4   32    male  28.880         0     no  northwest   3866.85520",
            "text/html": "<div>\n<style scoped>\n    .dataframe tbody tr th:only-of-type {\n        vertical-align: middle;\n    }\n\n    .dataframe tbody tr th {\n        vertical-align: top;\n    }\n\n    .dataframe thead th {\n        text-align: right;\n    }\n</style>\n<table border=\"1\" class=\"dataframe\">\n  <thead>\n    <tr style=\"text-align: right;\">\n      <th></th>\n      <th>age</th>\n      <th>sex</th>\n      <th>bmi</th>\n      <th>children</th>\n      <th>smoker</th>\n      <th>region</th>\n      <th>charges</th>\n    </tr>\n  </thead>\n  <tbody>\n    <tr>\n      <th>0</th>\n      <td>19</td>\n      <td>female</td>\n      <td>27.900</td>\n      <td>0</td>\n      <td>yes</td>\n      <td>southwest</td>\n      <td>16884.92400</td>\n    </tr>\n    <tr>\n      <th>1</th>\n      <td>18</td>\n      <td>male</td>\n      <td>33.770</td>\n      <td>1</td>\n      <td>no</td>\n      <td>southeast</td>\n      <td>1725.55230</td>\n    </tr>\n    <tr>\n      <th>2</th>\n      <td>28</td>\n      <td>male</td>\n      <td>33.000</td>\n      <td>3</td>\n      <td>no</td>\n      <td>southeast</td>\n      <td>4449.46200</td>\n    </tr>\n    <tr>\n      <th>3</th>\n      <td>33</td>\n      <td>male</td>\n      <td>22.705</td>\n      <td>0</td>\n      <td>no</td>\n      <td>northwest</td>\n      <td>21984.47061</td>\n    </tr>\n    <tr>\n      <th>4</th>\n      <td>32</td>\n      <td>male</td>\n      <td>28.880</td>\n      <td>0</td>\n      <td>no</td>\n      <td>northwest</td>\n      <td>3866.85520</td>\n    </tr>\n  </tbody>\n</table>\n</div>"
          },
          "metadata": {}
        }
      ],
      "execution_count": 4
    },
    {
      "cell_type": "markdown",
      "source": "By using `info` function, we will take a look at our types of data.\n",
      "metadata": {}
    },
    {
      "cell_type": "code",
      "source": "data.info()",
      "metadata": {
        "trusted": true
      },
      "outputs": [
        {
          "name": "stdout",
          "text": "<class 'pandas.core.frame.DataFrame'>\nRangeIndex: 1338 entries, 0 to 1337\nData columns (total 7 columns):\n #   Column    Non-Null Count  Dtype  \n---  ------    --------------  -----  \n 0   age       1338 non-null   int64  \n 1   sex       1338 non-null   object \n 2   bmi       1338 non-null   float64\n 3   children  1338 non-null   int64  \n 4   smoker    1338 non-null   object \n 5   region    1338 non-null   object \n 6   charges   1338 non-null   float64\ndtypes: float64(2), int64(2), object(3)\nmemory usage: 57.6+ KB\n",
          "output_type": "stream"
        }
      ],
      "execution_count": 7
    },
    {
      "cell_type": "markdown",
      "source": "The `describe()` function provides the statistical information about the numeric variables.\n",
      "metadata": {}
    },
    {
      "cell_type": "code",
      "source": "data.describe(include='all')",
      "metadata": {
        "trusted": true
      },
      "outputs": [
        {
          "execution_count": 23,
          "output_type": "execute_result",
          "data": {
            "text/plain": "                age   sex          bmi     children smoker     region  \\\ncount   1338.000000  1338  1338.000000  1338.000000   1338       1338   \nunique          NaN     2          NaN          NaN      2          4   \ntop             NaN  male          NaN          NaN     no  southeast   \nfreq            NaN   676          NaN          NaN   1064        364   \nmean      39.207025   NaN    30.663397     1.094918    NaN        NaN   \nstd       14.049960   NaN     6.098187     1.205493    NaN        NaN   \nmin       18.000000   NaN    15.960000     0.000000    NaN        NaN   \n25%       27.000000   NaN    26.296250     0.000000    NaN        NaN   \n50%       39.000000   NaN    30.400000     1.000000    NaN        NaN   \n75%       51.000000   NaN    34.693750     2.000000    NaN        NaN   \nmax       64.000000   NaN    53.130000     5.000000    NaN        NaN   \n\n             charges  \ncount    1338.000000  \nunique           NaN  \ntop              NaN  \nfreq             NaN  \nmean    13270.422265  \nstd     12110.011237  \nmin      1121.873900  \n25%      4740.287150  \n50%      9382.033000  \n75%     16639.912515  \nmax     63770.428010  ",
            "text/html": "<div>\n<style scoped>\n    .dataframe tbody tr th:only-of-type {\n        vertical-align: middle;\n    }\n\n    .dataframe tbody tr th {\n        vertical-align: top;\n    }\n\n    .dataframe thead th {\n        text-align: right;\n    }\n</style>\n<table border=\"1\" class=\"dataframe\">\n  <thead>\n    <tr style=\"text-align: right;\">\n      <th></th>\n      <th>age</th>\n      <th>sex</th>\n      <th>bmi</th>\n      <th>children</th>\n      <th>smoker</th>\n      <th>region</th>\n      <th>charges</th>\n    </tr>\n  </thead>\n  <tbody>\n    <tr>\n      <th>count</th>\n      <td>1338.000000</td>\n      <td>1338</td>\n      <td>1338.000000</td>\n      <td>1338.000000</td>\n      <td>1338</td>\n      <td>1338</td>\n      <td>1338.000000</td>\n    </tr>\n    <tr>\n      <th>unique</th>\n      <td>NaN</td>\n      <td>2</td>\n      <td>NaN</td>\n      <td>NaN</td>\n      <td>2</td>\n      <td>4</td>\n      <td>NaN</td>\n    </tr>\n    <tr>\n      <th>top</th>\n      <td>NaN</td>\n      <td>male</td>\n      <td>NaN</td>\n      <td>NaN</td>\n      <td>no</td>\n      <td>southeast</td>\n      <td>NaN</td>\n    </tr>\n    <tr>\n      <th>freq</th>\n      <td>NaN</td>\n      <td>676</td>\n      <td>NaN</td>\n      <td>NaN</td>\n      <td>1064</td>\n      <td>364</td>\n      <td>NaN</td>\n    </tr>\n    <tr>\n      <th>mean</th>\n      <td>39.207025</td>\n      <td>NaN</td>\n      <td>30.663397</td>\n      <td>1.094918</td>\n      <td>NaN</td>\n      <td>NaN</td>\n      <td>13270.422265</td>\n    </tr>\n    <tr>\n      <th>std</th>\n      <td>14.049960</td>\n      <td>NaN</td>\n      <td>6.098187</td>\n      <td>1.205493</td>\n      <td>NaN</td>\n      <td>NaN</td>\n      <td>12110.011237</td>\n    </tr>\n    <tr>\n      <th>min</th>\n      <td>18.000000</td>\n      <td>NaN</td>\n      <td>15.960000</td>\n      <td>0.000000</td>\n      <td>NaN</td>\n      <td>NaN</td>\n      <td>1121.873900</td>\n    </tr>\n    <tr>\n      <th>25%</th>\n      <td>27.000000</td>\n      <td>NaN</td>\n      <td>26.296250</td>\n      <td>0.000000</td>\n      <td>NaN</td>\n      <td>NaN</td>\n      <td>4740.287150</td>\n    </tr>\n    <tr>\n      <th>50%</th>\n      <td>39.000000</td>\n      <td>NaN</td>\n      <td>30.400000</td>\n      <td>1.000000</td>\n      <td>NaN</td>\n      <td>NaN</td>\n      <td>9382.033000</td>\n    </tr>\n    <tr>\n      <th>75%</th>\n      <td>51.000000</td>\n      <td>NaN</td>\n      <td>34.693750</td>\n      <td>2.000000</td>\n      <td>NaN</td>\n      <td>NaN</td>\n      <td>16639.912515</td>\n    </tr>\n    <tr>\n      <th>max</th>\n      <td>64.000000</td>\n      <td>NaN</td>\n      <td>53.130000</td>\n      <td>5.000000</td>\n      <td>NaN</td>\n      <td>NaN</td>\n      <td>63770.428010</td>\n    </tr>\n  </tbody>\n</table>\n</div>"
          },
          "metadata": {}
        }
      ],
      "execution_count": 23
    },
    {
      "cell_type": "markdown",
      "source": "According to the brief preview of our data, we will define the 'charges' to be our response variable, and 'age', 'sex', 'bmi', 'children', 'smoker', and 'region' to be our predictor variables. In this lab, we will test how our predictor variables influence the insurance 'charges'.\n",
      "metadata": {}
    },
    {
      "cell_type": "markdown",
      "source": "## **Steps in Hypothesis Testing**\n",
      "metadata": {}
    },
    {
      "cell_type": "markdown",
      "source": "## Example 1\n\nIn this first example, we will show how to prove (or disprove), with statistical evidence, that the BMI of females is different from that of males.\n",
      "metadata": {}
    },
    {
      "cell_type": "markdown",
      "source": "### 1. Choose a sample statistic\n",
      "metadata": {}
    },
    {
      "cell_type": "markdown",
      "source": "The first step in hypothesis testing is to choose a sample test statistic. Hypothesis testing allows us to check the sample statistic against a statistic of another sample or population. Let  𝜇1 be the population mean for BMI of males and 𝜇2 be the the population mean for BMI of females. We will compare these mean values, :$\\mu\\_{1}$ and $\\mu\\_{2}$, statistically.\n",
      "metadata": {}
    },
    {
      "cell_type": "markdown",
      "source": "### 2. Define hypothesis (Null and Alternative)\n",
      "metadata": {}
    },
    {
      "cell_type": "markdown",
      "source": "The next step is to define the hypothesis to be tested. Hypothesis is defined in two ways - null hypothesis(H0) and alternative hypothesis(H1). Null hypothesis is a statistical hypothesis which assumes that the difference in observations is due to a random factor. It is denoted by Ho. Alternative hypothesis is the opposite of null hypothesis. It assumes that the difference in observations is the result of a real effect. The alternate hypothesis is denoted by H1.\n",
      "metadata": {}
    },
    {
      "cell_type": "markdown",
      "source": "$ 𝐻_{0}:\\mu_{1}-\\mu_{2} = 0 $ There is no difference between the BMI of male and BMI of female. \\\n$ 𝐻_{A}:\\mu_{1}-\\mu_{2} \\ne 0 $ There is a difference between the BMI of male and BMI of female.\n",
      "metadata": {}
    },
    {
      "cell_type": "markdown",
      "source": "The equal sign in the null hypothesis indicates that it is a 2-tailed test.\n",
      "metadata": {}
    },
    {
      "cell_type": "markdown",
      "source": "### 3. Set the decision criteria\n",
      "metadata": {}
    },
    {
      "cell_type": "markdown",
      "source": "![](https://cf-courses-data.s3.us.cloud-object-storage.appdomain.cloud/IBM-ML0232EN-SkillsNetwork/asset/Hypothesis_Testing_3.png)\n",
      "metadata": {}
    },
    {
      "cell_type": "markdown",
      "source": "To set the criteria for a decision, we state the level of significance for a test. It could be 5%, 1% or 0.5%. Based on the level of significance, we can make a decision whether to accept the null hypothesis and reject the alternate, and vise versa.\n\nThe diagram above describes the principles of hypothesis testing. We will choose 5% significance level. Therefore, our $ \\alpha=0.05 $. Since we have a 2-tailed test, we have to divide alpha by 2, which gives us 0.025. So, if the calculated p-value is less than alpha, we will reject the null hypothesis. **The significance level is based on the business requirements**. If you would like to learn more about the statistical significance, please visit this [wikipedia link](https://en.wikipedia.org/wiki/Statistical_significance?utm_medium=Exinfluencer&utm_source=Exinfluencer&utm_content=000026UJ&utm_term=10006555&utm_id=NA-SkillsNetwork-Channel-SkillsNetworkCoursesIBMML0232ENSkillsNetwork30654641-2022-01-01).\n\nIn this lab, we will use one of the t-test, z-score, f-score or chi-squared statistics to evaluate our results.\n\nA t-test is used for testing the mean of one population against a standard or comparing the means of two populations if you do not know standard deviation of the the population and when you have a limited sample (n < 30). If you know the standard deviation of the populations , you may use a z-test.\n\nA z-test is used for testing the mean of a population versus a standard, or comparing the means of two populations, with large (n ≥ 30) samples, whether you know the population standard deviation or not. It is also used for testing the proportion of some characteristic versus a standard proportion, or comparing the proportions of two populations.\n\nAn f-test is used to compare variances between 2 populations. The samples can be any size. It is the basis of ANOVA.\n\nchi-squared test is used to determine whether there is a statistically significant difference between the expected and the observed frequencies in one or more categories of a contingency table. A contingency table is a tabular representation of categorical data. It shows the frequency distribution of the variables.\n\nTo learn more about [t-test](https://en.wikipedia.org/wiki/Student%27s_t-test?utm_medium=Exinfluencer&utm_source=Exinfluencer&utm_content=000026UJ&utm_term=10006555&utm_id=NA-SkillsNetwork-Channel-SkillsNetworkCoursesIBMML0232ENSkillsNetwork30654641-2022-01-01), [z-score](), [f-score](https://en.wikipedia.org/wiki/F-test?utm_medium=Exinfluencer&utm_source=Exinfluencer&utm_content=000026UJ&utm_term=10006555&utm_id=NA-SkillsNetwork-Channel-SkillsNetworkCoursesIBMML0232ENSkillsNetwork30654641-2022-01-01) or [chi-squared](https://en.wikipedia.org/wiki/Chi-squared_test?utm_medium=Exinfluencer&utm_source=Exinfluencer&utm_content=000026UJ&utm_term=10006555&utm_id=NA-SkillsNetwork-Channel-SkillsNetworkCoursesIBMML0232ENSkillsNetwork30654641-2022-01-01) statistics and [contingency tables](https://en.wikipedia.org/wiki/Contingency_table?utm_medium=Exinfluencer&utm_source=Exinfluencer&utm_content=000026UJ&utm_term=10006555&utm_id=NA-SkillsNetwork-Channel-SkillsNetworkCoursesIBMML0232ENSkillsNetwork30654641-2022-01-01), please visit their corresponding wikipedia links.\n",
      "metadata": {}
    },
    {
      "cell_type": "markdown",
      "source": "### 4. Evaluate and interpret the result\n",
      "metadata": {}
    },
    {
      "cell_type": "markdown",
      "source": "First, let's get all observations for females and males by using the `loc()` function.\n",
      "metadata": {}
    },
    {
      "cell_type": "code",
      "source": "#female=data.loc[data.sex==\"female\"]\n#male=data.loc[data.sex==\"male\"]\nfemale = data[data['sex']=='female']\nmale = data[data['sex']=='male']\nfemale.head()",
      "metadata": {
        "trusted": true
      },
      "outputs": [
        {
          "execution_count": 26,
          "output_type": "execute_result",
          "data": {
            "text/plain": "   age     sex    bmi  children smoker     region      charges\n0   19  female  27.90         0    yes  southwest  16884.92400\n5   31  female  25.74         0     no  southeast   3756.62160\n6   46  female  33.44         1     no  southeast   8240.58960\n7   37  female  27.74         3     no  northwest   7281.50560\n9   60  female  25.84         0     no  northwest  28923.13692",
            "text/html": "<div>\n<style scoped>\n    .dataframe tbody tr th:only-of-type {\n        vertical-align: middle;\n    }\n\n    .dataframe tbody tr th {\n        vertical-align: top;\n    }\n\n    .dataframe thead th {\n        text-align: right;\n    }\n</style>\n<table border=\"1\" class=\"dataframe\">\n  <thead>\n    <tr style=\"text-align: right;\">\n      <th></th>\n      <th>age</th>\n      <th>sex</th>\n      <th>bmi</th>\n      <th>children</th>\n      <th>smoker</th>\n      <th>region</th>\n      <th>charges</th>\n    </tr>\n  </thead>\n  <tbody>\n    <tr>\n      <th>0</th>\n      <td>19</td>\n      <td>female</td>\n      <td>27.90</td>\n      <td>0</td>\n      <td>yes</td>\n      <td>southwest</td>\n      <td>16884.92400</td>\n    </tr>\n    <tr>\n      <th>5</th>\n      <td>31</td>\n      <td>female</td>\n      <td>25.74</td>\n      <td>0</td>\n      <td>no</td>\n      <td>southeast</td>\n      <td>3756.62160</td>\n    </tr>\n    <tr>\n      <th>6</th>\n      <td>46</td>\n      <td>female</td>\n      <td>33.44</td>\n      <td>1</td>\n      <td>no</td>\n      <td>southeast</td>\n      <td>8240.58960</td>\n    </tr>\n    <tr>\n      <th>7</th>\n      <td>37</td>\n      <td>female</td>\n      <td>27.74</td>\n      <td>3</td>\n      <td>no</td>\n      <td>northwest</td>\n      <td>7281.50560</td>\n    </tr>\n    <tr>\n      <th>9</th>\n      <td>60</td>\n      <td>female</td>\n      <td>25.84</td>\n      <td>0</td>\n      <td>no</td>\n      <td>northwest</td>\n      <td>28923.13692</td>\n    </tr>\n  </tbody>\n</table>\n</div>"
          },
          "metadata": {}
        }
      ],
      "execution_count": 26
    },
    {
      "cell_type": "markdown",
      "source": "Now, let's select the bmi values for females and males.\n",
      "metadata": {}
    },
    {
      "cell_type": "code",
      "source": "f_bmi = female.bmi\nm_bmi = male.bmi",
      "metadata": {
        "trusted": true
      },
      "outputs": [],
      "execution_count": 38
    },
    {
      "cell_type": "markdown",
      "source": "Now, we will plot the distribution of 'bmi' values for females and males using seaborn's `distplot()` function.\n",
      "metadata": {}
    },
    {
      "cell_type": "code",
      "source": "sns.distplot(f_bmi,color='green',hist=False)\nsns.distplot(m_bmi,color='red',hist=False)\nplt.ylabel('Density/Percentage of Sample')\nplt.xlabel('Body Mass Index')\n",
      "metadata": {
        "trusted": true
      },
      "outputs": [
        {
          "execution_count": 41,
          "output_type": "execute_result",
          "data": {
            "text/plain": "Text(0.5, 0, 'Body Mass Index')"
          },
          "metadata": {}
        },
        {
          "output_type": "display_data",
          "data": {
            "text/plain": "<Figure size 640x480 with 1 Axes>",
            "image/png": "[encoded data removed]"
          },
          "metadata": {}
        }
      ],
      "execution_count": 41
    },
    {
      "cell_type": "markdown",
      "source": "From the graph, we already see that the two distributions are very similar.\n",
      "metadata": {}
    },
    {
      "cell_type": "markdown",
      "source": "Now, let's calculate the mean values for females and males bmi.\n",
      "metadata": {}
    },
    {
      "cell_type": "code",
      "source": "f_bmi.mean()",
      "metadata": {
        "trusted": true
      },
      "outputs": [
        {
          "execution_count": 46,
          "output_type": "execute_result",
          "data": {
            "text/plain": "30.37774924471299"
          },
          "metadata": {}
        }
      ],
      "execution_count": 46
    },
    {
      "cell_type": "code",
      "source": "m_bmi.mean()",
      "metadata": {
        "trusted": true
      },
      "outputs": [
        {
          "execution_count": 47,
          "output_type": "execute_result",
          "data": {
            "text/plain": "30.943128698224854"
          },
          "metadata": {}
        }
      ],
      "execution_count": 47
    },
    {
      "cell_type": "markdown",
      "source": "Next, we will obtain our statistics, t-value and p-value. We will use `scipy.stats` library and `ttest_ind()` function to calculate these parameters.\n",
      "metadata": {}
    },
    {
      "cell_type": "code",
      "source": "alpha=0.05\nt_value1, p_value1 = stats.ttest_ind(m_bmi, f_bmi)\nprint(\"t_value1 = \",t_value1, \", p_value1 = \", p_value1)",
      "metadata": {
        "trusted": true
      },
      "outputs": [
        {
          "name": "stdout",
          "text": "t_value1 =  1.696752635752224 , p_value1 =  0.08997637178984932\n",
          "output_type": "stream"
        }
      ],
      "execution_count": 48
    },
    {
      "cell_type": "markdown",
      "source": "Next, although optional, it is useful to print 'if/else' statements to make our conclusions about the the hypothesis.\n",
      "metadata": {}
    },
    {
      "cell_type": "code",
      "source": "if p_value1 <alpha:\n    print(\"Conclusion: since p_value {} is less than alpha {} \". format (p_value1,alpha))\n    print(\"Reject the null hypothesis that there is no difference between bmi of females and bmi of males.\")\n    \nelse:\n    print(\"Conclusion: since p_value {} is greater than alpha {} \". format (p_value1,alpha))\n    print(\"Fail to reject the null hypothesis 'στον πληθυσμο' that there is a difference between bmi of females and bmi of males.\")",
      "metadata": {
        "trusted": true
      },
      "outputs": [
        {
          "name": "stdout",
          "text": "Conclusion: since p_value 0.08997637178984932 is greater than alpha 0.05 \nFail to reject the null hypothesis 'στον πληθυσμο' that there is a difference between bmi of females and bmi of males.\n",
          "output_type": "stream"
        }
      ],
      "execution_count": 52
    },
    {
      "cell_type": "markdown",
      "source": "Conclusion: We fail to reject the null hypothesis and can conclude that there is no difference between the female and male bmi in the population. In the sample always a difference is observed.\n",
      "metadata": {}
    },
    {
      "cell_type": "markdown",
      "source": "## Example 2\n\nIn this example, we would like to prove (or disprove) that the medical claims made by the people who smoke are greater than those who don't.\n",
      "metadata": {}
    },
    {
      "cell_type": "markdown",
      "source": "We will compare the mean values (𝜇) of population of people who smoke and those who do not smoke. First, we need to calculate the mean values of smoking and non smoking populations.\n",
      "metadata": {}
    },
    {
      "cell_type": "code",
      "source": "smoker = data.loc[data.smoker==\"yes\"]\nsmoker_char = smoker.charges\nsch_mean = smoker_char.mean()\nsch_mean",
      "metadata": {
        "trusted": true
      },
      "outputs": [
        {
          "execution_count": 56,
          "output_type": "execute_result",
          "data": {
            "text/plain": "32050.23183153284"
          },
          "metadata": {}
        }
      ],
      "execution_count": 56
    },
    {
      "cell_type": "code",
      "source": "nonsmoker = data.loc[data.smoker==\"no\"]\nnonsmoker_char = nonsmoker.charges\nnonsmoker_mean = nonsmoker_char.mean()\nround(nonsmoker_mean,2)",
      "metadata": {
        "trusted": true
      },
      "outputs": [
        {
          "execution_count": 60,
          "output_type": "execute_result",
          "data": {
            "text/plain": "8434.27"
          },
          "metadata": {}
        }
      ],
      "execution_count": 60
    },
    {
      "cell_type": "markdown",
      "source": "## Exercise 1\n\nCalculate population mean of the nonsmokers.\n",
      "metadata": {}
    },
    {
      "cell_type": "code",
      "source": "# Enter your code below and run the cell\n",
      "metadata": {},
      "outputs": [],
      "execution_count": null
    },
    {
      "cell_type": "markdown",
      "source": "<details>\n<summary><strong>Solution</strong> (Click Here)</summary>\n    &emsp; &emsp; <code>\n\nnsch_mean = nonsmoker_char.mean()\nnsch_mean\n\n</code>\n</details>\n",
      "metadata": {}
    },
    {
      "cell_type": "markdown",
      "source": "Now, let's define our null and alternative hypothesis.\n",
      "metadata": {}
    },
    {
      "cell_type": "markdown",
      "source": "$ 𝐻_{0}:\\mu_{1} \\leq \\mu_{2} $ The average charges of smokers are less than or equal to nonsmokers. \\\n$ 𝐻_{A}:\\mu_{1} > \\mu_{2} $ The average charges of smokers are greater than or equal to nonsmokers.\n",
      "metadata": {}
    },
    {
      "cell_type": "markdown",
      "source": "The '>' sign in the alternate hypothesis indicates the test is right tailed. To compare the mean values of smoking and nonsmoking populations, we will use a t-test. If z-values (calculated from a t-test) fall into the area on the right side of a distribution curve, this would cause us to reject the null hypothesis.\n",
      "metadata": {}
    },
    {
      "cell_type": "markdown",
      "source": "Now, let's plot our smoking versus nonsmoking populations by using *seaborn* `boxplot()` function. It is always useful to have a visual representation of the data that we are working with.\n",
      "metadata": {}
    },
    {
      "cell_type": "code",
      "source": "sns.boxplot(x=data.charges,y=data.smoker,data=data).set(title=\"Fig:1 Smoker vs Charges\")",
      "metadata": {
        "trusted": true
      },
      "outputs": [
        {
          "execution_count": 59,
          "output_type": "execute_result",
          "data": {
            "text/plain": "[Text(0.5, 1.0, 'Fig:1 Smoker vs Charges')]"
          },
          "metadata": {}
        },
        {
          "output_type": "display_data",
          "data": {
            "text/plain": "<Figure size 640x480 with 1 Axes>",
            "image/png": "[encoded data removed]"
          },
          "metadata": {}
        }
      ],
      "execution_count": 59
    },
    {
      "cell_type": "markdown",
      "source": "Now, we will calculate t-value and p-value of charges for smoking and nonsmoking populations.\n",
      "metadata": {}
    },
    {
      "cell_type": "code",
      "source": "alpha=0.05\nt_val2, p_value2 = stats.ttest_ind(smoker_char, nonsmoker_char)\np_value_onetail=p_value2/2\nprint(\"t_value = {} , p_value ={} , p_value_onetail = {}\".format(t_val2, p_value2, p_value_onetail))",
      "metadata": {
        "trusted": true
      },
      "outputs": [
        {
          "name": "stdout",
          "text": "t_value = 46.66492117272371 , p_value =8.271435842179102e-283 , p_value_onetail = 4.135717921089551e-283\n",
          "output_type": "stream"
        }
      ],
      "execution_count": 61
    },
    {
      "cell_type": "markdown",
      "source": "## Exercise 2\n\nUse `print()` function to state your conclusions based on the calculated statistics. What are the conclusions?\n",
      "metadata": {}
    },
    {
      "cell_type": "code",
      "source": "# Enter your code and run the cell\nif p_value_onetail > alpha:\n    print(\"Conclusion:Since p value {} is greater than alpha {} \". format (p_value_onetail,alpha))\n    print(\"Failed to reject null hypothesis that average charges for smokers are less than nonsmoker.\")\nelse:\n    print (\"Conclusion:Since p value {} is lesss than alpha {} \". format (p_value_onetail,alpha))\n    print (\"Reject null hypothesis that there is no difference between average charges for smokers and nonsmoker.\")",
      "metadata": {
        "trusted": true
      },
      "outputs": [
        {
          "name": "stdout",
          "text": "Conclusion:Since p value 4.135717921089551e-283 is lesss than alpha 0.05 \nReject null hypothesis that there is no difference between average charges for smokers and nonsmoker.\n",
          "output_type": "stream"
        }
      ],
      "execution_count": 62
    },
    {
      "cell_type": "markdown",
      "source": "<details>\n<summary><strong>Solution</strong> (Click Here)</summary>\n    &emsp; &emsp; <code>\n# Use proper indentation when executing the code below\nif p_value2 \\<alpha :\n    print(\"Conclusion:Since p_value {} is less than alpha {} \". format (p_value_onetail,alpha) )\n    print(\"Reject null hypothesis that average charges for smokers are less than or equal to nonsmokers.\")\n\nelse:\n    print(\"Conclusion:Since p value {} is greater than alpha {} \". format (p_value_onetail,alpha))\n    print(\"Failed to reject null hypothesis that average charges for smokers are less than nonsmoker.\")\n\n</code>\n</details>\n",
      "metadata": {}
    },
    {
      "cell_type": "markdown",
      "source": "## Example 3\n\nIn this example, using the statistical evidence, we will compare the BMI of women with no children, one child, and two children.\n",
      "metadata": {}
    },
    {
      "cell_type": "markdown",
      "source": "Now, let's define our null and alternative hypothesis.\n",
      "metadata": {}
    },
    {
      "cell_type": "markdown",
      "source": "$ 𝐻_{0}:\\mu_{1}=\\mu_{2}=\\mu_{3} $ The mean BMI of women with no children , one child, and two children are the same. \\\n$ 𝐻_{A}: $ At least one of the means for women's BMI is not the same.\n",
      "metadata": {}
    },
    {
      "cell_type": "markdown",
      "source": "For this example, we will use a one-way ANOVA and f-score statistic to evaluate the variances of these three different populations. We will set alpha value to be 0.05.\n\nFirst, we need to filter data for women with 0, 1 and 2 children.\n",
      "metadata": {}
    },
    {
      "cell_type": "code",
      "source": "female_children = female.loc[female['children']<=2]\nfemale_children",
      "metadata": {
        "trusted": true
      },
      "outputs": [
        {
          "execution_count": 71,
          "output_type": "execute_result",
          "data": {
            "text/plain": "      age     sex    bmi  children smoker     region      charges\n0      19  female  27.90         0    yes  southwest  16884.92400\n5      31  female  25.74         0     no  southeast   3756.62160\n6      46  female  33.44         1     no  southeast   8240.58960\n9      60  female  25.84         0     no  northwest  28923.13692\n11     62  female  26.29         0    yes  southeast  27808.72510\n...   ...     ...    ...       ...    ...        ...          ...\n1331   23  female  33.40         0     no  southwest  10795.93733\n1334   18  female  31.92         0     no  northeast   2205.98080\n1335   18  female  36.85         0     no  southeast   1629.83350\n1336   21  female  25.80         0     no  southwest   2007.94500\n1337   61  female  29.07         0    yes  northwest  29141.36030\n\n[566 rows x 7 columns]",
            "text/html": "<div>\n<style scoped>\n    .dataframe tbody tr th:only-of-type {\n        vertical-align: middle;\n    }\n\n    .dataframe tbody tr th {\n        vertical-align: top;\n    }\n\n    .dataframe thead th {\n        text-align: right;\n    }\n</style>\n<table border=\"1\" class=\"dataframe\">\n  <thead>\n    <tr style=\"text-align: right;\">\n      <th></th>\n      <th>age</th>\n      <th>sex</th>\n      <th>bmi</th>\n      <th>children</th>\n      <th>smoker</th>\n      <th>region</th>\n      <th>charges</th>\n    </tr>\n  </thead>\n  <tbody>\n    <tr>\n      <th>0</th>\n      <td>19</td>\n      <td>female</td>\n      <td>27.90</td>\n      <td>0</td>\n      <td>yes</td>\n      <td>southwest</td>\n      <td>16884.92400</td>\n    </tr>\n    <tr>\n      <th>5</th>\n      <td>31</td>\n      <td>female</td>\n      <td>25.74</td>\n      <td>0</td>\n      <td>no</td>\n      <td>southeast</td>\n      <td>3756.62160</td>\n    </tr>\n    <tr>\n      <th>6</th>\n      <td>46</td>\n      <td>female</td>\n      <td>33.44</td>\n      <td>1</td>\n      <td>no</td>\n      <td>southeast</td>\n      <td>8240.58960</td>\n    </tr>\n    <tr>\n      <th>9</th>\n      <td>60</td>\n      <td>female</td>\n      <td>25.84</td>\n      <td>0</td>\n      <td>no</td>\n      <td>northwest</td>\n      <td>28923.13692</td>\n    </tr>\n    <tr>\n      <th>11</th>\n      <td>62</td>\n      <td>female</td>\n      <td>26.29</td>\n      <td>0</td>\n      <td>yes</td>\n      <td>southeast</td>\n      <td>27808.72510</td>\n    </tr>\n    <tr>\n      <th>...</th>\n      <td>...</td>\n      <td>...</td>\n      <td>...</td>\n      <td>...</td>\n      <td>...</td>\n      <td>...</td>\n      <td>...</td>\n    </tr>\n    <tr>\n      <th>1331</th>\n      <td>23</td>\n      <td>female</td>\n      <td>33.40</td>\n      <td>0</td>\n      <td>no</td>\n      <td>southwest</td>\n      <td>10795.93733</td>\n    </tr>\n    <tr>\n      <th>1334</th>\n      <td>18</td>\n      <td>female</td>\n      <td>31.92</td>\n      <td>0</td>\n      <td>no</td>\n      <td>northeast</td>\n      <td>2205.98080</td>\n    </tr>\n    <tr>\n      <th>1335</th>\n      <td>18</td>\n      <td>female</td>\n      <td>36.85</td>\n      <td>0</td>\n      <td>no</td>\n      <td>southeast</td>\n      <td>1629.83350</td>\n    </tr>\n    <tr>\n      <th>1336</th>\n      <td>21</td>\n      <td>female</td>\n      <td>25.80</td>\n      <td>0</td>\n      <td>no</td>\n      <td>southwest</td>\n      <td>2007.94500</td>\n    </tr>\n    <tr>\n      <th>1337</th>\n      <td>61</td>\n      <td>female</td>\n      <td>29.07</td>\n      <td>0</td>\n      <td>yes</td>\n      <td>northwest</td>\n      <td>29141.36030</td>\n    </tr>\n  </tbody>\n</table>\n<p>566 rows × 7 columns</p>\n</div>"
          },
          "metadata": {}
        }
      ],
      "execution_count": 71
    },
    {
      "cell_type": "markdown",
      "source": "We will use `groupby()` function to group the information by the number of children and bmi values.\n",
      "metadata": {}
    },
    {
      "cell_type": "code",
      "source": "female_children.groupby('children')['bmi'].mean()",
      "metadata": {
        "trusted": true
      },
      "outputs": [
        {
          "execution_count": 72,
          "output_type": "execute_result",
          "data": {
            "text/plain": "children\n0    30.361522\n1    30.052658\n2    30.649790\nName: bmi, dtype: float64"
          },
          "metadata": {}
        }
      ],
      "execution_count": 72
    },
    {
      "cell_type": "markdown",
      "source": "## Exercise 3\n\nIn this exercise, draw the *boxplots* to visualize the difference in bmi values between these 3 groups.\n",
      "metadata": {}
    },
    {
      "cell_type": "code",
      "source": "# Enter your code and run the cellsns.boxplot(x=\"children\", y=\"bmi\", data=female_children)\nsns.boxplot(y = 'bmi', x = 'children', data = female_children).set(title=\"Fig:1 Children vs BMI\")\n",
      "metadata": {
        "trusted": true
      },
      "outputs": [
        {
          "execution_count": 76,
          "output_type": "execute_result",
          "data": {
            "text/plain": "[Text(0.5, 1.0, 'Fig:1 Children vs BMI')]"
          },
          "metadata": {}
        },
        {
          "output_type": "display_data",
          "data": {
            "text/plain": "<Figure size 640x480 with 1 Axes>",
            "image/png": "[encoded data removed]"
          },
          "metadata": {}
        }
      ],
      "execution_count": 76
    },
    {
      "cell_type": "markdown",
      "source": "<details>\n<summary><strong>Solution</strong> (Click Here)</summary>\n    &emsp; &emsp; <code>\n\nsns.boxplot(x=\"children\", y=\"bmi\", data=female_children)\nplt.grid()\nplt.show()\n\n</code>\n</details>\n",
      "metadata": {}
    },
    {
      "cell_type": "markdown",
      "source": "Now, we will construct the ANOVA table and check for each groups count (0,1,2 children) against the bmi values. We will use the ols (ordinary least squares) model for estimation of the unknown parameters. To learn more about OLS, please visit this wikipedia [link](https://en.wikipedia.org/wiki/Ordinary_least_squares?utm_medium=Exinfluencer&utm_source=Exinfluencer&utm_content=000026UJ&utm_term=10006555&utm_id=NA-SkillsNetwork-Channel-SkillsNetworkCoursesIBMML0232ENSkillsNetwork30654641-2022-01-01).\n",
      "metadata": {}
    },
    {
      "cell_type": "code",
      "source": "formula = 'bmi ~ C(children)'\nmodel = ols(formula, female_children).fit()\naov_table = anova_lm(model)\naov_table",
      "metadata": {
        "trusted": true
      },
      "outputs": [
        {
          "execution_count": 77,
          "output_type": "execute_result",
          "data": {
            "text/plain": "                df        sum_sq    mean_sq         F    PR(>F)\nC(children)    2.0     24.590123  12.295062  0.334472  0.715858\nResidual     563.0  20695.661583  36.759612       NaN       NaN",
            "text/html": "<div>\n<style scoped>\n    .dataframe tbody tr th:only-of-type {\n        vertical-align: middle;\n    }\n\n    .dataframe tbody tr th {\n        vertical-align: top;\n    }\n\n    .dataframe thead th {\n        text-align: right;\n    }\n</style>\n<table border=\"1\" class=\"dataframe\">\n  <thead>\n    <tr style=\"text-align: right;\">\n      <th></th>\n      <th>df</th>\n      <th>sum_sq</th>\n      <th>mean_sq</th>\n      <th>F</th>\n      <th>PR(&gt;F)</th>\n    </tr>\n  </thead>\n  <tbody>\n    <tr>\n      <th>C(children)</th>\n      <td>2.0</td>\n      <td>24.590123</td>\n      <td>12.295062</td>\n      <td>0.334472</td>\n      <td>0.715858</td>\n    </tr>\n    <tr>\n      <th>Residual</th>\n      <td>563.0</td>\n      <td>20695.661583</td>\n      <td>36.759612</td>\n      <td>NaN</td>\n      <td>NaN</td>\n    </tr>\n  </tbody>\n</table>\n</div>"
          },
          "metadata": {}
        }
      ],
      "execution_count": 77
    },
    {
      "cell_type": "markdown",
      "source": "Conclusion. p-value is 0.715858 and it is greater than the alpha (0.05), therefore we fail to reject the null hypothesis and conclude that the mean bmi of women with no children, one child, and two children are the same.\n",
      "metadata": {}
    },
    {
      "cell_type": "markdown",
      "source": "## Example 4\n\nIn this example, we will determine if the proportion of smokers is significantly different across the different regions.\n",
      "metadata": {}
    },
    {
      "cell_type": "markdown",
      "source": "First, let's define our null and alternative hypothesis.\n",
      "metadata": {}
    },
    {
      "cell_type": "markdown",
      "source": "$ 𝐻_{0} $: Smokers proportions are not significantly different across the different regions. \\\n$ 𝐻_{A} $: Smokers proportions are different across the different regions.\n",
      "metadata": {}
    },
    {
      "cell_type": "markdown",
      "source": "Here, we are comparing two different categorical variables, smokers/nonsmokers and different regions. For this type of analysis, we will perform a chi-square test.\n",
      "metadata": {}
    },
    {
      "cell_type": "markdown",
      "source": "First, we will calculate a contingency table between the proportions of smokers in different regions. For this, we will use *pandas* `crosstab()` function.\n",
      "metadata": {}
    },
    {
      "cell_type": "code",
      "source": "contingency= pd.crosstab(data.region, data.smoker)\ncontingency",
      "metadata": {
        "trusted": true
      },
      "outputs": [
        {
          "execution_count": 78,
          "output_type": "execute_result",
          "data": {
            "text/plain": "smoker      no  yes\nregion             \nnortheast  257   67\nnorthwest  267   58\nsoutheast  273   91\nsouthwest  267   58",
            "text/html": "<div>\n<style scoped>\n    .dataframe tbody tr th:only-of-type {\n        vertical-align: middle;\n    }\n\n    .dataframe tbody tr th {\n        vertical-align: top;\n    }\n\n    .dataframe thead th {\n        text-align: right;\n    }\n</style>\n<table border=\"1\" class=\"dataframe\">\n  <thead>\n    <tr style=\"text-align: right;\">\n      <th>smoker</th>\n      <th>no</th>\n      <th>yes</th>\n    </tr>\n    <tr>\n      <th>region</th>\n      <th></th>\n      <th></th>\n    </tr>\n  </thead>\n  <tbody>\n    <tr>\n      <th>northeast</th>\n      <td>257</td>\n      <td>67</td>\n    </tr>\n    <tr>\n      <th>northwest</th>\n      <td>267</td>\n      <td>58</td>\n    </tr>\n    <tr>\n      <th>southeast</th>\n      <td>273</td>\n      <td>91</td>\n    </tr>\n    <tr>\n      <th>southwest</th>\n      <td>267</td>\n      <td>58</td>\n    </tr>\n  </tbody>\n</table>\n</div>"
          },
          "metadata": {}
        }
      ],
      "execution_count": 78
    },
    {
      "cell_type": "markdown",
      "source": "Next, let's plot the distribution of nonsmokers/smokers across 4 different regions using the `plot()` function.\n",
      "metadata": {}
    },
    {
      "cell_type": "code",
      "source": " contingency.plot(kind='bar')",
      "metadata": {
        "trusted": true
      },
      "outputs": [
        {
          "execution_count": 79,
          "output_type": "execute_result",
          "data": {
            "text/plain": "<AxesSubplot:xlabel='region'>"
          },
          "metadata": {}
        },
        {
          "output_type": "display_data",
          "data": {
            "text/plain": "<Figure size 640x480 with 1 Axes>",
            "image/png": "[encoded data removed]"
          },
          "metadata": {}
        }
      ],
      "execution_count": 79
    },
    {
      "cell_type": "markdown",
      "source": "Now, using `chi2_contingency()` method, from the *scipy.stats* `chi2_contingency`, we will calculate chi-squared, p-value, degrees of freedom, and expected frequencies for our data.\n",
      "metadata": {}
    },
    {
      "cell_type": "code",
      "source": "chi2, p_val, dof, exp_freq = chi2_contingency(contingency, correction = False)\nprint('chi-square statistic: {} , p_value: {} , degree of freedom: {} ,expected frequencies: {} '.format(chi2, p_val, dof, exp_freq))",
      "metadata": {
        "trusted": true
      },
      "outputs": [
        {
          "name": "stdout",
          "text": "chi-square statistic: 7.343477761407071 , p_value: 0.06171954839170541 , degree of freedom: 3 ,expected frequencies: [[257.65022422  66.34977578]\n [258.44544096  66.55455904]\n [289.45889387  74.54110613]\n [258.44544096  66.55455904]] \n",
          "output_type": "stream"
        }
      ],
      "execution_count": 80
    },
    {
      "cell_type": "markdown",
      "source": "## Exercise 4\n\nBased on the above results, print your conclusion statements whether to reject or accept the null hypothesis. What are your conclusions about the hypothesis?\n",
      "metadata": {}
    },
    {
      "cell_type": "code",
      "source": "# Enter your code and run the cell\nif p_val < 0.05:\n    print('Reject the null hypothesis, that the smokers proportions are not significantly different across the different regions')\nelse:\n    print('Accept the null hypothesis, that the smokers proportions(Yes/No) are not significantly different across the different regions')\n",
      "metadata": {
        "trusted": true
      },
      "outputs": [
        {
          "name": "stdout",
          "text": "Accept the null hypothesis, that the smokers proportions(Yes/No) are not significantly different across the different regions\n",
          "output_type": "stream"
        }
      ],
      "execution_count": 81
    },
    {
      "cell_type": "markdown",
      "source": "<details>\n<summary><strong>Solution</strong> (Click Here)</summary>\n    &emsp; &emsp; <code>\n# Use proper indentation when executing the code below\n    \nif (p_val < 0.05):\n    print('Reject the null hypothesis, that the smokers proportions are not significantly different across the different regions')\nelse:\n    print('Accept the null hypothesis, that the smokers proportions are not significantly different across the different regions')\n\n</code>\n</details>\n",
      "metadata": {}
    },
    {
      "cell_type": "markdown",
      "source": "<details>\n<summary><strong>Answer</strong> (Click Here)</summary>\n    &emsp; &emsp; <code>\n\nConclusion: We failed to reject that the proportions of smokers are not significantly different across different regions. Therefore, the proportions of smokers are not significantly different across different regions.\n\n</code>\n</details>\n",
      "metadata": {}
    },
    {
      "cell_type": "markdown",
      "source": "## Author\n",
      "metadata": {}
    },
    {
      "cell_type": "markdown",
      "source": "[Svitlana Kramar](https://www.linkedin.com/in/svitlana-kramar/?utm_medium=Exinfluencer&utm_source=Exinfluencer&utm_content=000026UJ&utm_term=10006555&utm_id=NA-SkillsNetwork-Channel-SkillsNetworkCoursesIBMML0232ENSkillsNetwork30654641-2022-01-01)\n",
      "metadata": {}
    },
    {
      "cell_type": "markdown",
      "source": "Copyright © 2020 IBM Corporation. All rights reserved.\n\n<!--\n## Change Log\n\n| Date (YYYY-MM-DD) | Version | Changed By | Change Description   |\n| ----------------- | ------- | ---------- | -------------------- |\n| 2022-01-10        | 0.1     | Svitlana   | Updated introduction |\n--!>\n",
      "metadata": {}
    }
  ]
}